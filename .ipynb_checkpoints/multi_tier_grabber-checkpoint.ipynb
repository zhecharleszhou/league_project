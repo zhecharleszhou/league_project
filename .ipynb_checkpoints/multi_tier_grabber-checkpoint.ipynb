{
 "cells": [
  {
   "cell_type": "code",
   "execution_count": 1,
   "metadata": {},
   "outputs": [],
   "source": [
    "# guide : https://riot-api-libraries.readthedocs.io/en/latest/collectingdata.html \n",
    "\n",
    "import os\n",
    "import requests\n",
    "import pandas as pd"
   ]
  },
  {
   "cell_type": "code",
   "execution_count": 2,
   "metadata": {},
   "outputs": [],
   "source": [
    "## Parameters\n",
    "APIKey = os.environ.get('League_API')\n",
    "region = 'na1'"
   ]
  },
  {
   "cell_type": "code",
   "execution_count": 45,
   "metadata": {},
   "outputs": [],
   "source": [
    "## Get account details by providing the account name\n",
    "def requestSummonerData(region,summonerName, APIKey):\n",
    "    URL = f\"https://{region}.api.riotgames.com/lol/summoner/v4/summoners/by-name/{summonerName}?api_key={APIKey}\"\n",
    "    response = requests.get(URL)\n",
    "    return response.json()\n",
    "\n",
    "def requestMatchList(region,acctID, APIKey):\n",
    "    URL = f\"https://{region}.api.riotgames.com/lol/match/v4/matchlists/by-account/{acctID}?api_key={APIKey}\"\n",
    "    response = requests.get(URL)\n",
    "    return response.json()\n",
    "\n",
    "def requestMatchInfo(region,matchID, APIKey):\n",
    "    URL = \"https://{}.api.riotgames.com/lol/match/v4/matches/{}?api_key={}\".format(region,matchID,APIKey)\n",
    "    response = requests.get(URL)\n",
    "    return response.json()\n",
    "\n",
    "def requestLeagueInfo(region,leagueID, APIKey):\n",
    "    URL = \"https://{}.api.riotgames.com/lol/league/v4/leagues/{}?api_key={}\".format(region,leagueID,APIKey)\n",
    "    response = requests.get(URL)\n",
    "    return response.json()"
   ]
  },
  {
   "cell_type": "code",
   "execution_count": 53,
   "metadata": {},
   "outputs": [
    {
     "data": {
      "text/html": [
       "<div>\n",
       "<style scoped>\n",
       "    .dataframe tbody tr th:only-of-type {\n",
       "        vertical-align: middle;\n",
       "    }\n",
       "\n",
       "    .dataframe tbody tr th {\n",
       "        vertical-align: top;\n",
       "    }\n",
       "\n",
       "    .dataframe thead th {\n",
       "        text-align: right;\n",
       "    }\n",
       "</style>\n",
       "<table border=\"1\" class=\"dataframe\">\n",
       "  <thead>\n",
       "    <tr style=\"text-align: right;\">\n",
       "      <th></th>\n",
       "      <th>leagueId</th>\n",
       "      <th>tier</th>\n",
       "      <th>number</th>\n",
       "    </tr>\n",
       "  </thead>\n",
       "  <tbody>\n",
       "    <tr>\n",
       "      <th>2180</th>\n",
       "      <td>33615ec6-ec9e-4817-b313-a2c480cbae83</td>\n",
       "      <td>SILVER</td>\n",
       "      <td>172</td>\n",
       "    </tr>\n",
       "    <tr>\n",
       "      <th>2109</th>\n",
       "      <td>31845af7-afc6-4ad4-8b83-4031b5693c27</td>\n",
       "      <td>DIAMOND</td>\n",
       "      <td>200</td>\n",
       "    </tr>\n",
       "    <tr>\n",
       "      <th>843</th>\n",
       "      <td>13a50d7c-f78b-482f-b3ec-e08b918e0315</td>\n",
       "      <td>IRON</td>\n",
       "      <td>80</td>\n",
       "    </tr>\n",
       "    <tr>\n",
       "      <th>1163</th>\n",
       "      <td>1b3312ff-9154-46a9-a224-d34440be6a14</td>\n",
       "      <td>IRON</td>\n",
       "      <td>74</td>\n",
       "    </tr>\n",
       "    <tr>\n",
       "      <th>4228</th>\n",
       "      <td>647b289d-5372-4117-93e5-5c84659531a6</td>\n",
       "      <td>GOLD</td>\n",
       "      <td>160</td>\n",
       "    </tr>\n",
       "  </tbody>\n",
       "</table>\n",
       "</div>"
      ],
      "text/plain": [
       "                                  leagueId     tier  number\n",
       "2180  33615ec6-ec9e-4817-b313-a2c480cbae83   SILVER     172\n",
       "2109  31845af7-afc6-4ad4-8b83-4031b5693c27  DIAMOND     200\n",
       "843   13a50d7c-f78b-482f-b3ec-e08b918e0315     IRON      80\n",
       "1163  1b3312ff-9154-46a9-a224-d34440be6a14     IRON      74\n",
       "4228  647b289d-5372-4117-93e5-5c84659531a6     GOLD     160"
      ]
     },
     "execution_count": 53,
     "metadata": {},
     "output_type": "execute_result"
    }
   ],
   "source": [
    "leagueList=pd.read_csv(r\"C:\\Users\\The_Iron_Maiden\\Documents\\GitHub\\league_project\\league_na1.csv\")\n",
    "leagueList_toAnalyze = leagueList.sample(frac=1) # CZ__ .sample(frac=1) shuffles the rows\n",
    "leagueList_toAnalyze.head()"
   ]
  },
  {
   "cell_type": "code",
   "execution_count": 33,
   "metadata": {},
   "outputs": [],
   "source": [
    "summoner_data = requestSummonerData(region,'Duvet Cover', APIKey)\n",
    "acctID = summoner_data['accountId']"
   ]
  },
  {
   "cell_type": "code",
   "execution_count": 34,
   "metadata": {},
   "outputs": [],
   "source": [
    "match_list = requestMatchList(region, acctID, APIKey)"
   ]
  },
  {
   "cell_type": "code",
   "execution_count": 36,
   "metadata": {},
   "outputs": [],
   "source": [
    "match_list['matches'][0]\n",
    "matchID = match_list['matches'][0]['gameId']"
   ]
  },
  {
   "cell_type": "code",
   "execution_count": 37,
   "metadata": {},
   "outputs": [],
   "source": [
    "match_info = requestMatchInfo(region,matchID, APIKey)"
   ]
  },
  {
   "cell_type": "code",
   "execution_count": 44,
   "metadata": {},
   "outputs": [
    {
     "data": {
      "text/plain": [
       "dict_keys(['gameId', 'platformId', 'gameCreation', 'gameDuration', 'queueId', 'mapId', 'seasonId', 'gameVersion', 'gameMode', 'gameType', 'teams', 'participants', 'participantIdentities'])"
      ]
     },
     "execution_count": 44,
     "metadata": {},
     "output_type": "execute_result"
    }
   ],
   "source": [
    "match_info.keys()"
   ]
  },
  {
   "cell_type": "code",
   "execution_count": 43,
   "metadata": {},
   "outputs": [
    {
     "name": "stdout",
     "output_type": "stream",
     "text": [
      "dict_keys(['participantId', 'teamId', 'championId', 'spell1Id', 'spell2Id', 'stats', 'timeline'])\n"
     ]
    },
    {
     "data": {
      "text/plain": [
       "dict_keys(['participantId', 'win', 'item0', 'item1', 'item2', 'item3', 'item4', 'item5', 'item6', 'kills', 'deaths', 'assists', 'largestKillingSpree', 'largestMultiKill', 'killingSprees', 'longestTimeSpentLiving', 'doubleKills', 'tripleKills', 'quadraKills', 'pentaKills', 'unrealKills', 'totalDamageDealt', 'magicDamageDealt', 'physicalDamageDealt', 'trueDamageDealt', 'largestCriticalStrike', 'totalDamageDealtToChampions', 'magicDamageDealtToChampions', 'physicalDamageDealtToChampions', 'trueDamageDealtToChampions', 'totalHeal', 'totalUnitsHealed', 'damageSelfMitigated', 'damageDealtToObjectives', 'damageDealtToTurrets', 'visionScore', 'timeCCingOthers', 'totalDamageTaken', 'magicalDamageTaken', 'physicalDamageTaken', 'trueDamageTaken', 'goldEarned', 'goldSpent', 'turretKills', 'inhibitorKills', 'totalMinionsKilled', 'neutralMinionsKilled', 'neutralMinionsKilledTeamJungle', 'neutralMinionsKilledEnemyJungle', 'totalTimeCrowdControlDealt', 'champLevel', 'visionWardsBoughtInGame', 'sightWardsBoughtInGame', 'wardsPlaced', 'wardsKilled', 'firstBloodKill', 'firstBloodAssist', 'firstTowerKill', 'firstTowerAssist', 'firstInhibitorKill', 'firstInhibitorAssist', 'combatPlayerScore', 'objectivePlayerScore', 'totalPlayerScore', 'totalScoreRank', 'playerScore0', 'playerScore1', 'playerScore2', 'playerScore3', 'playerScore4', 'playerScore5', 'playerScore6', 'playerScore7', 'playerScore8', 'playerScore9', 'perk0', 'perk0Var1', 'perk0Var2', 'perk0Var3', 'perk1', 'perk1Var1', 'perk1Var2', 'perk1Var3', 'perk2', 'perk2Var1', 'perk2Var2', 'perk2Var3', 'perk3', 'perk3Var1', 'perk3Var2', 'perk3Var3', 'perk4', 'perk4Var1', 'perk4Var2', 'perk4Var3', 'perk5', 'perk5Var1', 'perk5Var2', 'perk5Var3', 'perkPrimaryStyle', 'perkSubStyle', 'statPerk0', 'statPerk1', 'statPerk2'])"
      ]
     },
     "execution_count": 43,
     "metadata": {},
     "output_type": "execute_result"
    }
   ],
   "source": [
    "print(match_info['participants'][0].keys())\n",
    "match_info['participants'][0]['stats'].keys()"
   ]
  },
  {
   "cell_type": "code",
   "execution_count": null,
   "metadata": {},
   "outputs": [],
   "source": [
    "def find_player_idx(match_info, acct_ID):\n",
    "    # find index of player in player list\n",
    "    for idx in range( len(match_info['participantIdentities'])-1 ):\n",
    "        if match_info['participantIdentities'][idx]['player']['accountId'] == acct_ID:\n",
    "            player_key = idx\n",
    "            \n",
    "    return player_key\n",
    "\n",
    "\n",
    "def calc_kda(statsDict): \n",
    "    if statsDict['deaths'] == 0:\n",
    "        kda = statsDict['kills'] + statsDict['assists']\n",
    "    else:\n",
    "        kda = ( statsDict['kills'] + statsDict['assists'] ) / statsDict['deaths']\n",
    "    return kda\n",
    "\n",
    "\n",
    "def get_highest_rank(matchInfo, playerKey):\n",
    "    if 'highestAchievedSeasonTier' not in matchInfo['participants'][playerKey]:\n",
    "        thisRank = 'Unranked'\n",
    "        matchRank = 0\n",
    "    else:\n",
    "        thisRank = matchInfo['participants'][playerKey]['highestAchievedSeasonTier']\n",
    "        matchRank = rankNames.index(thisRank) + 1\n",
    "    return matchRank"
   ]
  },
  {
   "cell_type": "code",
   "execution_count": 76,
   "metadata": {},
   "outputs": [
    {
     "name": "stdout",
     "output_type": "stream",
     "text": [
      "Angela Sweety\n",
      "tangywangs\n",
      "Ânnihilation\n",
      "Angela Sweety\n",
      "tangywangs\n",
      "Ânnihilation\n"
     ]
    }
   ],
   "source": [
    "for index, row in leagueList_toAnalyze.head(2).iterrows():\n",
    " \n",
    "    ## Pull the ID field from the response data, cast it to an int\n",
    "    thisLeagueID = row['leagueId']\n",
    "    \n",
    "    # grab \n",
    "    # entries is a list where entries of dicts of a specific summoner\n",
    "    league_summoners  = requestLeagueInfo(region, thisLeagueID, APIKey)['entries']\n",
    "    league_summoners = thisLeagueList[0:50] # CZ__\n",
    "    \n",
    "    for summoner in league_summoners[:3]:\n",
    "        \n",
    "        print(summoner['summonerName'])\n",
    "    \n",
    "        acctID = requestSummonerData(region,summoner['summonerName'], APIKey)['accountId']\n",
    "        \n",
    "        if acctID not in allPrevAcctId:\n",
    "        \n",
    "            matchList  = requestMatchList(region,acctID, APIKey)   \n",
    "            numMatches = len(matchList ['matches'])\n",
    "            \n",
    "            for iMatch in range(numMatches-1):\n",
    "                \n",
    "                # need to pause bc of rate limits for riotAPI\n",
    "                if iMatch%80 == 0 and iMatch != 0: \n",
    "                    \n",
    "                    time.sleep(121)\n",
    "                    \n",
    "                print( 'Get match'+ str(iMatch) )\n",
    "                \n",
    "                try:\n",
    "                \n",
    "                    matchID = matchList ['matches'][iMatch]['gameId'] # get this match's ID\n",
    "                    \n",
    "                    # get request match data and extract metrics from match info\n",
    "                    matchInfo = requestMatchInfo(region,matchID, APIKey) # pull this game's info from riotAPI\n",
    "                    max_time = matchInfo['gameDuration']\n",
    "                    game_version = matchInfo['gameVersion']\n",
    "                    playerKey = find_player_idx(matchInfo, acctID)\n",
    "                    stats_dict = matchInfo['participants'][playerKey]['stats'] # get stats dict from this game\n",
    "                    playerTeam = matchInfo['participants'][playerKey]['teamId']\n",
    "                    \n",
    "                    ############ preprocess data\n",
    "                    \n",
    "                    # calculate KDA\n",
    "                    kda = calc_kda(stats_dict)\n",
    "                        \n",
    "                    # figure out champion name from ID\n",
    "                    thisChampionID = matchInfo['participants'][playerKey]['championId']\n",
    "                    tfIndex = dfChampNames['champion_ID'] == thisChampionID\n",
    "                    champName =  dfChampNames[tfIndex]['champion_name'].item()\n",
    "                    \n",
    "                    # figure out player's match rank\n",
    "                    match_rank = get_highest_rank(matchInfo, playerKey)\n",
    "                    \n",
    "                    # get role and lane\n",
    "                    role = matchInfo['participants'][playerKey]['timeline']['role']\n",
    "                    lane = matchInfo['participants'][playerKey]['timeline']['lane']\n",
    "                    teamID = matchInfo['participants'][playerKey]['teamId'] \n",
    "                    \n",
    "                    \n",
    "                    for iParticipant in range(0,10):\n",
    "                        thisRole = matchInfo['participants'][iParticipant]['timeline']['role']\n",
    "                        thisLane = matchInfo['participants'][iParticipant]['timeline']['lane']\n",
    "                        thisTeamID = matchInfo['participants'][iParticipant]['teamId']\n",
    "                        \n",
    "                        thisPlayerChampionID = matchInfo['participants'][iParticipant]['championId']\n",
    "                        champIndex = dfChampNames['champion_ID'] == thisPlayerChampionID\n",
    "                        thisChampName =  dfChampNames[champIndex]['champion_name'].item()\n",
    "                        \n",
    "                        tmpID = f\"{thisRole}_{thisLane}\"\n",
    "                        \n",
    "                        if tmpID == 'SOLO_TOP' and thisTeamID == teamID: \n",
    "                            playerTop = thisChampName\n",
    "                        elif tmpID == 'NONE_JUNGLE' and thisTeamID == teamID:\n",
    "                            playerJung = thisChampName\n",
    "                        elif tmpID == 'SOLO_MIDDLE' and thisTeamID == teamID:\n",
    "                            playerMid = thisChampName\n",
    "                        elif tmpID == 'DUO_CARRY_BOTTOM' and thisTeamID == teamID:\n",
    "                            playerADC = thisChampName\n",
    "                        elif tmpID == 'DUO_SUPPORT_BOTTOM' and thisTeamID == teamID:\n",
    "                            playerSupp = thisChampName\n",
    "                        elif tmpID == 'SOLO_TOP' and thisTeamID != teamID:\n",
    "                            oppTop = thisChampName\n",
    "                        elif tmpID == 'NONE_JUNGLE' and thisTeamID != teamID:\n",
    "                            oppJung = thisChampName\n",
    "                        elif tmpID == 'SOLO_MIDDLE' and thisTeamID != teamID:\n",
    "                            oppMid = thisChampName\n",
    "                        elif tmpID == 'DUO_CARRY_BOTTOM' and thisTeamID != teamID:   \n",
    "                            oppADC = thisChampName\n",
    "                        elif tmpID == 'DUO_SUPPORT_BOTTOM' and thisTeamID != teamID: \n",
    "                            oppSupp = thisChampName\n",
    "                    ############ put data together \n",
    "        \n",
    "                    \n",
    "                    if role in ['SOLO','NONE']:\n",
    "                        true_role = lane\n",
    "                    else:\n",
    "                        true_role = role\n",
    "                    # create a vector of data to append for this match\n",
    "                    addVector =  [acctID, statsDict['kills'], thisChampionID,champName,\n",
    "                        statsDict['damageDealtToObjectives'],statsDict['damageDealtToTurrets'],\n",
    "                        statsDict['damageSelfMitigated'],statsDict['deaths'], game_version, statsDict['goldEarned'],kda,statsDict['kills'],\n",
    "                        statsDict['magicDamageDealtToChampions'],matchID,matchRank,\n",
    "                        max_time,statsDict['neutralMinionsKilled'],statsDict['neutralMinionsKilledEnemyJungle'],\n",
    "                        statsDict['neutralMinionsKilledTeamJungle'],statsDict['participantId'],statsDict['physicalDamageDealtToChampions'],\n",
    "                        statsDict['timeCCingOthers'],statsDict['totalDamageDealtToChampions'],\n",
    "                        statsDict['totalDamageTaken'],statsDict['totalHeal'],statsDict['totalMinionsKilled'],\n",
    "                        statsDict['trueDamageDealtToChampions'],true_role,statsDict['wardsKilled'],statsDict['wardsPlaced'],statsDict['visionScore'],\n",
    "                        int(statsDict['win']), teamID, playerTop,playerJung,playerMid,playerADC,playerSupp,oppTop,oppJung,oppMid,oppADC,oppSupp \n",
    "                        ]\n",
    "                    \n",
    "                    ######### add data to dataframes to save\n",
    "        \n",
    "                    if  role == 'SOLO' and lane == 'TOP':   \n",
    "                        dfTop.loc[topCounter] = addVector\n",
    "                        topCounter += 1\n",
    "                        print('Top#: ' + str(topCounter))\n",
    "                    elif role == 'NONE' and lane == 'JUNGLE':    \n",
    "                        dfJungle.loc[jungCounter] = addVector\n",
    "                        jungCounter += 1\n",
    "                        print('Jung#: ' + str(jungCounter))\n",
    "                    elif role == 'SOLO' and lane == 'MIDDLE':    \n",
    "                        dfMid.loc[midCounter] = addVector\n",
    "                        midCounter += 1\n",
    "                        print('Mid#: ' + str(midCounter))\n",
    "                    elif role == 'DUO_CARRY':    \n",
    "                        dfBot.loc[botCounter] = addVector\n",
    "                        botCounter += 1\n",
    "                        print('Bot#: ' + str(botCounter))\n",
    "                    elif role == 'DUO_SUPPORT':    \n",
    "                        dfSupp.loc[suppCounter] = addVector \n",
    "                        suppCounter += 1\n",
    "                        print('Supp#: ' + str(suppCounter))\n",
    "    \n",
    "                except:\n",
    "                    print ('Missing fields')\n",
    "                \n",
    "                "
   ]
  },
  {
   "cell_type": "code",
   "execution_count": null,
   "metadata": {},
   "outputs": [],
   "source": []
  }
 ],
 "metadata": {
  "kernelspec": {
   "display_name": "Python 3",
   "language": "python",
   "name": "python3"
  },
  "language_info": {
   "codemirror_mode": {
    "name": "ipython",
    "version": 3
   },
   "file_extension": ".py",
   "mimetype": "text/x-python",
   "name": "python",
   "nbconvert_exporter": "python",
   "pygments_lexer": "ipython3",
   "version": "3.7.6"
  }
 },
 "nbformat": 4,
 "nbformat_minor": 4
}
